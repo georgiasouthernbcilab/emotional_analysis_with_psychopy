{
 "cells": [
  {
   "cell_type": "markdown",
   "metadata": {},
   "source": [
    "## Main code!  Works with everything"
   ]
  },
  {
   "cell_type": "code",
   "execution_count": 3,
   "metadata": {},
   "outputs": [
    {
     "name": "stdout",
     "output_type": "stream",
     "text": [
      "FFmpeg process called at: 2024-10-13 13:04:37.860\n",
      "Recording started with PID 21640, saving to recording_2024-10-13_13-04-37.avi\n"
     ]
    }
   ],
   "source": [
    "import subprocess\n",
    "from datetime import datetime\n",
    "import time\n",
    "# Global variable to store the ffmpeg process\n",
    "ffmpeg_process = None\n",
    "\n",
    "def start_recording():\n",
    "    global ffmpeg_process\n",
    "    \n",
    "    # Get the current timestamp for logging\n",
    "    start_time = datetime.now()\n",
    "    formatted_start_time = start_time.strftime('%Y-%m-%d %H:%M:%S.%f')[:-3]\n",
    "    print(f\"FFmpeg process called at: {formatted_start_time}\")\n",
    "\n",
    "    # Generate a filename with a timestamp\n",
    "    timestamp = start_time.strftime(\"%Y-%m-%d_%H-%M-%S\")\n",
    "    output_filename = f'recording_{timestamp}.avi'  # Using AVI format\n",
    "\n",
    "    # Start the FFmpeg process\n",
    "    try:\n",
    "        ffmpeg_process = subprocess.Popen([\n",
    "            'ffmpeg',\n",
    "            '-f', 'dshow',\n",
    "            '-i', 'video=Logitech HD Webcam C525',\n",
    "            '-vf', \"drawtext=text='%{pts\\\\:hms} %{localtime}.%{eif\\\\:1M*t-1K*trunc(t*1K)\\\\:d}':fontfile='C:/Windows/Fonts/arial.ttf':fontcolor=white:fontsize=24:x=10:y=10\",\n",
    "            '-c:v', 'libx264',\n",
    "            '-preset', 'ultrafast',\n",
    "            output_filename\n",
    "        ], stderr=subprocess.PIPE, stdout=subprocess.PIPE)\n",
    "\n",
    "        print(f\"Recording started with PID {ffmpeg_process.pid}, saving to {output_filename}\")\n",
    "\n",
    "    except Exception as e:\n",
    "        print(f\"Error starting recording: {e}\")\n",
    "\n",
    "# Call the function to start recording\n",
    "start_recording()\n"
   ]
  },
  {
   "cell_type": "markdown",
   "metadata": {},
   "source": [
    "## Try super hard to have it any length and exit gracefully"
   ]
  },
  {
   "cell_type": "code",
   "execution_count": 4,
   "metadata": {},
   "outputs": [
    {
     "name": "stdout",
     "output_type": "stream",
     "text": [
      "Recording stopped with PID 21640\n"
     ]
    }
   ],
   "source": [
    "def stop_recording():\n",
    "    global ffmpeg_process\n",
    "    \n",
    "    if ffmpeg_process is not None:\n",
    "        try:\n",
    "            # Attempt to terminate the process gracefully\n",
    "            ffmpeg_process.terminate()\n",
    "            # Wait a bit to allow FFmpeg to finish writing the file (critical for .mp4 files)\n",
    "            # time.sleep(2)\n",
    "            # Wait for the process to terminate completely\n",
    "            ffmpeg_process.wait()  \n",
    "            print(f\"Recording stopped with PID {ffmpeg_process.pid}\")\n",
    "            ffmpeg_process = None  # Reset the process variable\n",
    "        except Exception as e:\n",
    "            print(f\"Error stopping recording: {e}\")\n",
    "    else:\n",
    "        print(\"No recording in progress.\")\n",
    "\n",
    "# Call the function to stop recording\n",
    "stop_recording()\n"
   ]
  }
 ],
 "metadata": {
  "kernelspec": {
   "display_name": "Python 3",
   "language": "python",
   "name": "python3"
  },
  "language_info": {
   "codemirror_mode": {
    "name": "ipython",
    "version": 3
   },
   "file_extension": ".py",
   "mimetype": "text/x-python",
   "name": "python",
   "nbconvert_exporter": "python",
   "pygments_lexer": "ipython3",
   "version": "3.12.5"
  }
 },
 "nbformat": 4,
 "nbformat_minor": 2
}
